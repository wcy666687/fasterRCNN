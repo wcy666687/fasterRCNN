{
 "cells": [
  {
   "cell_type": "code",
   "execution_count": 487,
   "id": "eb014938",
   "metadata": {},
   "outputs": [],
   "source": [
    "import os\n",
    "import time\n",
    "import json\n",
    "\n",
    "import torch\n",
    "import torchvision\n",
    "from PIL import Image\n",
    "import matplotlib.pyplot as plt\n",
    "\n",
    "from torchvision import transforms\n",
    "from network_files import FasterRCNN, FastRCNNPredictor, AnchorsGenerator\n",
    "from backbone import resnet50_fpn_backbone, MobileNetV2\n",
    "import numpy as np"
   ]
  },
  {
   "cell_type": "code",
   "execution_count": 488,
   "id": "b65e5a20",
   "metadata": {},
   "outputs": [],
   "source": [
    "def create_model(num_classes):\n",
    "    backbone = resnet50_fpn_backbone(norm_layer=torch.nn.BatchNorm2d)\n",
    "    model = FasterRCNN(backbone=backbone, num_classes=num_classes, rpn_score_thresh=0.5)\n",
    "    return model\n",
    "def time_synchronized():\n",
    "    torch.cuda.synchronize() if torch.cuda.is_available() else None\n",
    "    return time.time()"
   ]
  },
  {
   "cell_type": "code",
   "execution_count": 498,
   "id": "bb9b3d86",
   "metadata": {},
   "outputs": [],
   "source": [
    "ind_dic = {\n",
    "    1:\"aeroplane\",\n",
    "    2:\"bicycle\",\n",
    "    3:\"bird\",\n",
    "    4:\"boat\",\n",
    "    5:\"bottle\",\n",
    "    6:\"bus\",\n",
    "    7:\"car\",\n",
    "    8:\"cat\",\n",
    "    9:\"chair\",\n",
    "    10:\"cow\",\n",
    "    11:\"diningtable\",\n",
    "    12:\"dog\",\n",
    "    13:\"horse\",\n",
    "    14:\"motorbike\",\n",
    "    15:\"person\",\n",
    "    16:\"pottedplant\",\n",
    "    17:\"sheep\",\n",
    "    18:\"sofa\",\n",
    "    19:\"train\",\n",
    "    20:\"tvmonitor\"\n",
    "}\n",
    "testclass_dict = {\n",
    "    \"aeroplane\": 1,\n",
    "    \"bicycle\": 2,\n",
    "    \"bird\": 3,\n",
    "    \"boat\": 4,\n",
    "    \"bottle\": 5,\n",
    "    \"bus\": 6,\n",
    "    \"car\": 7,\n",
    "    \"cat\": 8,\n",
    "    \"chair\": 9,\n",
    "    \"cow\": 10,\n",
    "    \"diningtable\": 11,\n",
    "    \"dog\": 12,\n",
    "    \"horse\": 13,\n",
    "    \"motorbike\": 14,\n",
    "    \"person\": 15,\n",
    "    \"pottedplant\": 16,\n",
    "    \"sheep\": 17,\n",
    "    \"sofa\": 18,\n",
    "    \"train\": 19,\n",
    "    \"tvmonitor\": 20\n",
    "}\n",
    "# test_classes = ['aeroplane','bicycle','bus','car','person','train','boat','horse','motorbike']\n",
    "test_classes = ['car','person','bus']\n",
    "# testclass_dict = {'aeroplane':0,'bicycle':1,'bus':2,'car':3,'person':4,'train':5,'boat':6,'cat':7,'horse':8,'motorbike':9,'dog':10}\n",
    "# test_classes = [\"aeroplane\",\"bicycle\",\"bird\",\"boat\",\"bottle\",\"bus\",\"car\",\"cat\",\"chair\",\"cow\",\"diningtable\",\"dog\",\"horse\",\"motorbike\",\"person\",\"pottedplant\",\"sheep\",\"sofa\",\"train\",\"tvmonitor\"]\n",
    "\n",
    "# global_len = [169,226,297,111,27,259,299,400,232,116,89,400,244,294,400,80,125,115,141,170]\n",
    "global_len = 20*[150]"
   ]
  },
  {
   "cell_type": "code",
   "execution_count": 464,
   "id": "356b1f17",
   "metadata": {},
   "outputs": [],
   "source": [
    "# def res_item(boxes, classes, scores, ind_dic, box_thresh: float = 0.1):\n",
    "#     idxs = np.greater(scores, box_thresh)\n",
    "#     labels = []\n",
    "#     cla = classes[idxs]\n",
    "#     if len(cla) == 0:\n",
    "#         labels.append(\"Empty\")\n",
    "#         greatest = None\n",
    "#     if len(cla) != 0:\n",
    "#         idx = np.argmax(scores)\n",
    "#         for p in cla:\n",
    "#             lb = ind_dic[p]\n",
    "#             labels.append(lb)\n",
    "#         labels = np.array(labels)\n",
    "#         greatest = ind_dic[classes[idx]]\n",
    "#     return labels,greatest\n",
    "def res_item(boxes, classes, scores, ind_dic, box_thresh: float = 0.1):\n",
    "    idxs = np.greater(scores, box_thresh)\n",
    "    box = boxes[idxs]\n",
    "    clas = classes[idxs]\n",
    "    labels = []\n",
    "    num_idx = sum(idxs)\n",
    "    for i in range(num_idx):\n",
    "        box_size = (box[i,0]-box[i,2])*(box[i,1]-box[i,3])\n",
    "        if box_size > 7500:\n",
    "            labels.append(ind_dic[clas[i]])\n",
    "    return labels"
   ]
  },
  {
   "cell_type": "code",
   "execution_count": 465,
   "id": "0aa74c06",
   "metadata": {},
   "outputs": [
    {
     "name": "stdout",
     "output_type": "stream",
     "text": [
      "using cuda:0 device.\n"
     ]
    }
   ],
   "source": [
    "device = torch.device(\"cuda:0\" if torch.cuda.is_available() else \"cpu\")\n",
    "print(\"using {} device.\".format(device))\n",
    "model = create_model(num_classes=21)\n",
    "weights_path = \"./save_weights/p-0.pth\"\n",
    "assert os.path.exists(weights_path), \"{} file dose not exist.\".format(weights_path)\n",
    "weights_dict = torch.load(weights_path, map_location='cpu')\n",
    "weights_dict = weights_dict[\"model\"] if \"model\" in weights_dict else weights_dict\n",
    "model.load_state_dict(weights_dict)\n",
    "model.to(device)\n",
    "label_json_path = './pascal_voc_classes.json'\n",
    "assert os.path.exists(label_json_path), \"json file {} dose not exist.\".format(label_json_path)\n",
    "with open(label_json_path, 'r') as f:\n",
    "    class_dict = json.load(f)\n",
    "category_index = {str(v): str(k) for k, v in class_dict.items()}"
   ]
  },
  {
   "cell_type": "code",
   "execution_count": 503,
   "id": "02a71a6f",
   "metadata": {},
   "outputs": [
    {
     "name": "stdout",
     "output_type": "stream",
     "text": [
      "3\n",
      "Category: car\n",
      "Category: person\n",
      "Category: bus\n"
     ]
    }
   ],
   "source": [
    "num_classes = len(test_classes)\n",
    "print(num_classes)\n",
    "comp_mat = np.zeros((num_classes,num_classes+2))\n",
    "global_len = [150]*num_classes\n",
    "for i in range(num_classes):    \n",
    "    tar_class = test_classes[i]\n",
    "    print(\"Category:\",tar_class)\n",
    "    path = \"C:/Users/Dalei/Desktop/Mywork/test_all/{}/\".format(tar_class)\n",
    "    numb = global_len[i]\n",
    "    for k in range(numb):\n",
    "        original_img = Image.open(path+str(k)+\".jpg\")\n",
    "        data_transform = transforms.Compose([transforms.ToTensor()])\n",
    "        img = data_transform(original_img)\n",
    "        img = torch.unsqueeze(img, dim=0)\n",
    "        model.eval() \n",
    "        with torch.no_grad():\n",
    "            img_height, img_width = img.shape[-2:]\n",
    "            init_img = torch.zeros((1, 3, img_height, img_width), device=device)\n",
    "            model(init_img)\n",
    "            predictions = model(img.to(device))[0]\n",
    "            predict_boxes = predictions[\"boxes\"].to(\"cpu\").numpy()\n",
    "            predict_classes = predictions[\"labels\"].to(\"cpu\").numpy()\n",
    "            predict_scores = predictions[\"scores\"].to(\"cpu\").numpy()\n",
    "            labels = res_item(predict_boxes, predict_classes, predict_scores, ind_dic)\n",
    "        if len(labels) == 0:\n",
    "            ind = num_classes\n",
    "        elif tar_class in labels:\n",
    "            ind = np.where(np.array(test_classes)==tar_class)[0][0]\n",
    "        elif labels[0] in test_classes:\n",
    "            ind = np.where(np.array(test_classes)==labels[0])[0][0] \n",
    "        else:\n",
    "            ind = num_classes+1\n",
    "        comp_mat[i,ind] += 1\n",
    "    comp_mat[i,:]=comp_mat[i,:]/np.sum(comp_mat[i,:])\n",
    "#     print(comp_mat[i,:])"
   ]
  },
  {
   "cell_type": "code",
   "execution_count": 504,
   "id": "7a99b87b",
   "metadata": {},
   "outputs": [
    {
     "name": "stdout",
     "output_type": "stream",
     "text": [
      "3\n"
     ]
    }
   ],
   "source": [
    "print(num_classes)"
   ]
  },
  {
   "cell_type": "code",
   "execution_count": 505,
   "id": "20ff7540",
   "metadata": {},
   "outputs": [],
   "source": [
    "# a = np.load(\"./Npy/multi11_comp_nn.npy\")\n",
    "# b = np.load(\"./Npy/multi_comp_eig.npy\")\n",
    "a_s = np.sum(np.diag(comp_mat))\n",
    "# b_s = np.sum(np.diag(b)[1:])"
   ]
  },
  {
   "cell_type": "code",
   "execution_count": 506,
   "id": "1b62080c",
   "metadata": {},
   "outputs": [
    {
     "data": {
      "text/plain": [
       "0.5844444444444444"
      ]
     },
     "execution_count": 506,
     "metadata": {},
     "output_type": "execute_result"
    }
   ],
   "source": [
    "a_s/num_classes"
   ]
  },
  {
   "cell_type": "code",
   "execution_count": 495,
   "id": "527ef540",
   "metadata": {},
   "outputs": [
    {
     "data": {
      "text/plain": [
       "<matplotlib.colorbar.Colorbar at 0x247e0810650>"
      ]
     },
     "execution_count": 495,
     "metadata": {},
     "output_type": "execute_result"
    },
    {
     "data": {
      "image/png": "[encoded data removed]",
      "text/plain": [
       "<Figure size 640x480 with 2 Axes>"
      ]
     },
     "metadata": {},
     "output_type": "display_data"
    }
   ],
   "source": [
    "plt.imshow(comp_mat)\n",
    "plt.colorbar()"
   ]
  },
  {
   "cell_type": "code",
   "execution_count": 472,
   "id": "396c4ded",
   "metadata": {},
   "outputs": [],
   "source": [
    "np.save('multi11_comp_nn_box_11_modi.npy',comp_mat)"
   ]
  },
  {
   "cell_type": "code",
   "execution_count": 481,
   "id": "e2a3573f",
   "metadata": {},
   "outputs": [],
   "source": [
    "A = np.load(\"./Npy/multi_comp_eig.npy\")"
   ]
  },
  {
   "cell_type": "code",
   "execution_count": 476,
   "id": "5edb0324",
   "metadata": {},
   "outputs": [
    {
     "data": {
      "text/plain": [
       "<matplotlib.colorbar.Colorbar at 0x247e04ecad0>"
      ]
     },
     "execution_count": 476,
     "metadata": {},
     "output_type": "execute_result"
    },
    {
     "data": {
      "image/png": "[encoded data removed]",
      "text/plain": [
       "<Figure size 640x480 with 2 Axes>"
      ]
     },
     "metadata": {},
     "output_type": "display_data"
    }
   ],
   "source": [
    "plt.imshow(a)\n",
    "plt.colorbar()"
   ]
  },
  {
   "cell_type": "code",
   "execution_count": null,
   "id": "c1f336d1",
   "metadata": {},
   "outputs": [],
   "source": []
  },
  {
   "cell_type": "code",
   "execution_count": null,
   "id": "f33af0c4",
   "metadata": {},
   "outputs": [],
   "source": []
  }
 ],
 "metadata": {
  "kernelspec": {
   "display_name": "Python 3 (ipykernel)",
   "language": "python",
   "name": "python3"
  },
  "language_info": {
   "codemirror_mode": {
    "name": "ipython",
    "version": 3
   },
   "file_extension": ".py",
   "mimetype": "text/x-python",
   "name": "python",
   "nbconvert_exporter": "python",
   "pygments_lexer": "ipython3",
   "version": "3.11.4"
  }
 },
 "nbformat": 4,
 "nbformat_minor": 5
}
